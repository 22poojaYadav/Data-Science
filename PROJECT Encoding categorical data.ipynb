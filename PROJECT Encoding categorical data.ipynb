{
 "cells": [
  {
   "cell_type": "code",
   "execution_count": 9,
   "id": "bbb0c9fe-c424-49f6-84a2-bebab8fe68cb",
   "metadata": {},
   "outputs": [],
   "source": [
    "# import necessary library\n",
    "import pandas as pd\n",
    "import numpy as np\n",
    "import matplotlib.pyplot as plt\n",
    "import pandas as pd\n",
    "from sklearn.preprocessing import LabelEncoder"
   ]
  },
  {
   "cell_type": "code",
   "execution_count": 11,
   "id": "d578e56f-25b3-404c-bb1d-057a08d99bae",
   "metadata": {},
   "outputs": [],
   "source": [
    "# Sample E-commerce Customer Behavior Data\n",
    "data = {\n",
    "    'Customer_id': [101,201,301, 401, 501],\n",
    "    'Gender': ['Male', 'Female', 'Female', 'Male', 'Female'],\n",
    "    'Age': [15, 33, 20, 23, 30],\n",
    "    'Purchase_amount': [2000, 4050, 2300, 1150, 5500],\n",
    "    'Product_category': ['Electronics', 'Clothing', 'Electronics', 'Furniture', 'Clothing']\n",
    "}\n"
   ]
  },
  {
   "cell_type": "code",
   "execution_count": 13,
   "id": "1e72759e-6549-4715-82ea-d2c13e428f0b",
   "metadata": {},
   "outputs": [],
   "source": [
    "# convert the dictionary to a pandas Dataframe\n",
    "df = pd.DataFrame(data)"
   ]
  },
  {
   "cell_type": "code",
   "execution_count": 15,
   "id": "e8ff556c-92ed-4322-b47d-490c85e62045",
   "metadata": {},
   "outputs": [
    {
     "name": "stdout",
     "output_type": "stream",
     "text": [
      "Data after One-Hot Encoding:\n",
      "    Customer_id  Age  Purchase_amount  Gender_Male  \\\n",
      "0          101   15             2000         True   \n",
      "1          201   33             4050        False   \n",
      "2          301   20             2300        False   \n",
      "3          401   23             1150         True   \n",
      "4          501   30             5500        False   \n",
      "\n",
      "   Product_category_Electronics  Product_category_Furniture  \n",
      "0                          True                       False  \n",
      "1                         False                       False  \n",
      "2                          True                       False  \n",
      "3                         False                        True  \n",
      "4                         False                       False  \n",
      "\n",
      "Data after Label Encoding for 'gender':\n",
      "    Customer_id  Gender  gender_encoded\n",
      "0          101    Male               1\n",
      "1          201  Female               0\n",
      "2          301  Female               0\n",
      "3          401    Male               1\n",
      "4          501  Female               0\n"
     ]
    }
   ],
   "source": [
    "# **Part 1: Encoding Categorical Data for E-Commerce Customer Behavior Analysis**\n",
    "\n",
    "# 1. One-Hot Encoding for 'gender' and 'product_category'\n",
    "df_encoded = pd.get_dummies(df, columns=['Gender', 'Product_category'], drop_first=True)\n",
    "\n",
    "print(\"Data after One-Hot Encoding:\\n\", df_encoded)\n",
    "\n",
    "\n",
    "# 2. Label Encoding for 'gender' (if we want to encode it as numbers instead of dummy variables)\n",
    "label_encoder = LabelEncoder()\n",
    "\n",
    "# Apply Label Encoding for 'gender' column\n",
    "df['gender_encoded'] = label_encoder.fit_transform(df['Gender'])\n",
    "\n",
    "print(\"\\nData after Label Encoding for 'gender':\\n\", df[['Customer_id', 'Gender', 'gender_encoded']])\n"
   ]
  },
  {
   "cell_type": "code",
   "execution_count": 17,
   "id": "2271dceb-a7e0-4a3d-b41c-a365a2f522a5",
   "metadata": {},
   "outputs": [],
   "source": [
    "# Import necessary library\n",
    "import pandas as pd\n",
    "import numpy as np\n",
    "from sklearn.preprocessing import StandardScaler\n",
    "from sklearn.impute import SimpleImputer"
   ]
  },
  {
   "cell_type": "code",
   "execution_count": 19,
   "id": "d34b9550-3503-41b2-b029-61642f31e0fa",
   "metadata": {},
   "outputs": [],
   "source": [
    "# **Part 2: Transforming Data for Analysis in E-Commerce Customer Behavior**\n",
    "\n",
    "# Sample E-commerce Customer Behavior Data\n",
    "data = {\n",
    "    'customer_id': [11, 22, 33, 44, 55],\n",
    "    'gender': ['Male', 'Female', 'Female', 'Male', 'Female'],\n",
    "    'age': [25, 30, 22, 35, np.nan],  # Missing value in age\n",
    "    'purchase_amount': [200, 450, np.nan, 150, 500],  # Missing value in purchase_amount\n",
    "    'product_category': ['Electronics', 'Clothing', 'Electronics', 'Furniture', 'Clothing'],\n",
    "    'session_duration': [30, 45, 15, 40, 50],\n",
    "    'loyalty_score': [7, 9, 6, 5, 8]\n",
    "}\n",
    "\n",
    "# Convert to pandas DataFrame\n",
    "df = pd.DataFrame(data)\n",
    "\n",
    "# Step 1: Handling Missing Data using SimpleImputer (Mean Imputation)\n",
    "imputer = SimpleImputer(strategy='mean')  # Use mean to fill missing values\n"
   ]
  },
  {
   "cell_type": "code",
   "execution_count": 21,
   "id": "d27d1f5f-3513-453b-b16c-ad64ae3ab1aa",
   "metadata": {},
   "outputs": [
    {
     "name": "stdout",
     "output_type": "stream",
     "text": [
      "Data after Handling Missing Values:\n",
      "    customer_id  gender   age  purchase_amount product_category  \\\n",
      "0           11    Male  25.0            200.0      Electronics   \n",
      "1           22  Female  30.0            450.0         Clothing   \n",
      "2           33  Female  22.0            325.0      Electronics   \n",
      "3           44    Male  35.0            150.0        Furniture   \n",
      "4           55  Female  28.0            500.0         Clothing   \n",
      "\n",
      "   session_duration  loyalty_score  \n",
      "0                30              7  \n",
      "1                45              9  \n",
      "2                15              6  \n",
      "3                40              5  \n",
      "4                50              8  \n",
      "\n",
      "Data after Feature Scaling:\n",
      "    customer_id  gender       age  purchase_amount product_category  \\\n",
      "0           11    Male -0.677631        -0.919018      Electronics   \n",
      "1           22  Female  0.451754         0.919018         Clothing   \n",
      "2           33  Female -1.355262         0.000000      Electronics   \n",
      "3           44    Male  1.581139        -1.286626        Furniture   \n",
      "4           55  Female  0.000000         1.286626         Clothing   \n",
      "\n",
      "   session_duration  loyalty_score  \n",
      "0         -0.483494              7  \n",
      "1          0.725241              9  \n",
      "2         -1.692228              6  \n",
      "3          0.322329              5  \n",
      "4          1.128152              8  \n"
     ]
    }
   ],
   "source": [
    "# Impute missing values in the 'age' and 'purchase_amount' columns\n",
    "df['age'] = imputer.fit_transform(df[['age']])\n",
    "df['purchase_amount'] = imputer.fit_transform(df[['purchase_amount']])\n",
    "\n",
    "print(\"Data after Handling Missing Values:\\n\", df)\n",
    "\n",
    "# Step 2: Feature Scaling using StandardScaler\n",
    "scaler = StandardScaler()\n",
    "\n",
    "# Scale the numerical features: age, purchase_amount, and session_duration\n",
    "df[['age', 'purchase_amount', 'session_duration']] = scaler.fit_transform(df[['age', 'purchase_amount', 'session_duration']])\n",
    "\n",
    "print(\"\\nData after Feature Scaling:\\n\", df)\n"
   ]
  },
  {
   "cell_type": "code",
   "execution_count": 23,
   "id": "f4cd2464-e12a-430e-8597-33ce5a91ae6e",
   "metadata": {},
   "outputs": [],
   "source": [
    "# Import necessary library\n",
    "import pandas as pd\n",
    "import numpy as np\n",
    "from sklearn.preprocessing import StandardScaler\n",
    "from sklearn.impute import SimpleImputer"
   ]
  },
  {
   "cell_type": "code",
   "execution_count": 25,
   "id": "4568c4fb-919a-4193-9a8f-a11411920bb3",
   "metadata": {},
   "outputs": [],
   "source": [
    "# Sample E-commerce Customer Behavior Data\n",
    "data = {\n",
    "    'Customer_id': [101,201,301, 401, 501],\n",
    "    'Gender': ['Male', 'Female', 'Female', 'Male', 'Female'],\n",
    "    'Age': [15, 33, 20, 23, 30],\n",
    "    'Purchase_amount': [2000, 4050, 2300, 1150, 5500],\n",
    "    'Product_category': ['Electronics', 'Clothing', 'Electronics', 'Furniture', 'Clothing']\n",
    "}\n",
    "# Convert to pandas DataFrame\n",
    "df = pd.DataFrame(data)"
   ]
  },
  {
   "cell_type": "code",
   "execution_count": 29,
   "id": "b71994d2-51a8-424d-bcf9-2d2745be3f6d",
   "metadata": {},
   "outputs": [
    {
     "name": "stdout",
     "output_type": "stream",
     "text": [
      "Data after Handling Missing Values:\n",
      "    Customer_id  Gender       Age  Purchase_amount Product_category\n",
      "0          101    Male -1.403640        -0.638486      Electronics\n",
      "1          201  Female  1.342612         0.670410         Clothing\n",
      "2          301  Female -0.640792        -0.446940      Electronics\n",
      "3          401    Male -0.183083        -1.181199        Furniture\n",
      "4          501  Female  0.884903         1.596214         Clothing\n",
      "\n",
      "Data after Feature Scaling:\n",
      "    Customer_id  Gender       Age  Purchase_amount Product_category\n",
      "0          101    Male -1.403640        -0.638486      Electronics\n",
      "1          201  Female  1.342612         0.670410         Clothing\n",
      "2          301  Female -0.640792        -0.446940      Electronics\n",
      "3          401    Male -0.183083        -1.181199        Furniture\n",
      "4          501  Female  0.884903         1.596214         Clothing\n"
     ]
    }
   ],
   "source": [
    "# **Part 3: Handling Missing Data (Imputation) and Feature Scaling**\n",
    "\n",
    "# Step 1: Handling Missing Data using SimpleImputer (Mean Imputation)\n",
    "imputer = SimpleImputer(strategy='mean')  # Use mean to fill missing values\n",
    "\n",
    "# Impute missing values in the 'age' and 'purchase_amount' columns\n",
    "df['Age'] = imputer.fit_transform(df[['Age']])\n",
    "df['Purchase_amount'] = imputer.fit_transform(df[['Purchase_amount']])\n",
    "\n",
    "print(\"Data after Handling Missing Values:\\n\", df)\n",
    "\n",
    "# Feature Scaling\n",
    "\n",
    "# Step 2: Feature Scaling using StandardScaler\n",
    "scaler = StandardScaler()\n",
    "\n",
    "# Scale the numerical features: age, purchase_amount, and session_duration\n",
    "df[['Age', 'Purchase_amount']] = scaler.fit_transform(df[['Age', 'Purchase_amount']])\n",
    "\n",
    "print(\"\\nData after Feature Scaling:\\n\", df)"
   ]
  },
  {
   "cell_type": "code",
   "execution_count": 31,
   "id": "7a263686-7a9a-4552-bf4c-dfc66d784f72",
   "metadata": {},
   "outputs": [],
   "source": [
    "# **Part 4: Combining and Splitting Datasets for E-Commerce Customer Behavior Analysis**\n",
    "\n",
    "# Steps Involved:\n",
    "# Combining Datasets : Combine different data sources (e.g., customer information, purchase behavior) into one dataset for analysis.\n",
    "\n",
    "# Splitting Datasets- Split the combined dataset into training and testing datasets, which are crucial for model training and evaluation.\n",
    "\n",
    "import pandas as pd\n",
    "from sklearn.model_selection import train_test_split\n",
    "\n",
    "# Sample Customer Demographics Data\n",
    "demographics_data = {\n",
    "    'customer_id': [201, 202,203, 204, 205],\n",
    "    'gender': ['Male', 'Female', 'Female', 'Male', 'Female'],\n",
    "    'age': [44, 20, 42, 35, 60],\n",
    "}\n",
    "\n",
    "# Sample Customer Transaction Data\n",
    "transaction_data = {\n",
    "    'customer_id': [201, 202,203, 204, 205],\n",
    "    'purchase_amount': [200, 450, 300, 150, 500],\n",
    "    'product_category': ['Electronics', 'Clothing', 'Electronics', 'Furniture', 'Clothing']\n",
    "}\n",
    "\n",
    "# Sample Customer Session Data\n",
    "session_data = {\n",
    "    'customer_id': [201, 202,203, 204, 205],\n",
    "    'session_duration': [30, 45, 15, 40, 50],\n",
    "    'loyalty_score': [7, 9, 6, 5, 8]\n",
    "}"
   ]
  },
  {
   "cell_type": "code",
   "execution_count": 33,
   "id": "7536b566-0098-4d4e-9f39-994735b184a1",
   "metadata": {},
   "outputs": [
    {
     "name": "stdout",
     "output_type": "stream",
     "text": [
      "Combined Dataset:\n",
      "    customer_id  gender  age  purchase_amount product_category  \\\n",
      "0          201    Male   44              200      Electronics   \n",
      "1          202  Female   20              450         Clothing   \n",
      "2          203  Female   42              300      Electronics   \n",
      "3          204    Male   35              150        Furniture   \n",
      "4          205  Female   60              500         Clothing   \n",
      "\n",
      "   session_duration  loyalty_score  \n",
      "0                30              7  \n",
      "1                45              9  \n",
      "2                15              6  \n",
      "3                40              5  \n",
      "4                50              8  \n",
      "\n",
      "Training Features:\n",
      "    gender  age  purchase_amount product_category  session_duration\n",
      "4  Female   60              500         Clothing                50\n",
      "2  Female   42              300      Electronics                15\n",
      "0    Male   44              200      Electronics                30\n",
      "3    Male   35              150        Furniture                40\n",
      "\n",
      "Testing Features:\n",
      "    gender  age  purchase_amount product_category  session_duration\n",
      "1  Female   20              450         Clothing                45\n",
      "\n",
      "Training Target (Loyalty Score):\n",
      " 4    8\n",
      "2    6\n",
      "0    7\n",
      "3    5\n",
      "Name: loyalty_score, dtype: int64\n",
      "\n",
      "Testing Target (Loyalty Score):\n",
      " 1    9\n",
      "Name: loyalty_score, dtype: int64\n"
     ]
    }
   ],
   "source": [
    "# Convert the dictionaries into pandas DataFrames\n",
    "df_demographics = pd.DataFrame(demographics_data)\n",
    "df_transactions = pd.DataFrame(transaction_data)\n",
    "df_sessions = pd.DataFrame(session_data)\n",
    "\n",
    "# Step 1: Combine the Datasets using 'customer_id'\n",
    "df_combined = pd.merge(df_demographics, df_transactions, on='customer_id', how='inner')\n",
    "df_combined = pd.merge(df_combined, df_sessions, on='customer_id', how='inner')\n",
    "\n",
    "print(\"Combined Dataset:\\n\", df_combined)\n",
    "\n",
    "# Step 2: Split the Combined Dataset into Training and Testing Data\n",
    "X = df_combined.drop(columns=['customer_id', 'loyalty_score'])  # Features\n",
    "y = df_combined['loyalty_score']  # Target variable\n",
    "\n",
    "# Split the data into 80% training and 20% testing\n",
    "X_train, X_test, y_train, y_test = train_test_split(X, y, test_size=0.2, random_state=42)\n",
    "\n",
    "print(\"\\nTraining Features:\\n\", X_train)\n",
    "print(\"\\nTesting Features:\\n\", X_test)\n",
    "print(\"\\nTraining Target (Loyalty Score):\\n\", y_train)\n",
    "print(\"\\nTesting Target (Loyalty Score):\\n\", y_test)\n"
   ]
  },
  {
   "cell_type": "code",
   "execution_count": null,
   "id": "25b69d71-a466-4b89-9316-edf071eecc60",
   "metadata": {},
   "outputs": [],
   "source": []
  }
 ],
 "metadata": {
  "kernelspec": {
   "display_name": "Python [conda env:base] *",
   "language": "python",
   "name": "conda-base-py"
  },
  "language_info": {
   "codemirror_mode": {
    "name": "ipython",
    "version": 3
   },
   "file_extension": ".py",
   "mimetype": "text/x-python",
   "name": "python",
   "nbconvert_exporter": "python",
   "pygments_lexer": "ipython3",
   "version": "3.12.7"
  }
 },
 "nbformat": 4,
 "nbformat_minor": 5
}
